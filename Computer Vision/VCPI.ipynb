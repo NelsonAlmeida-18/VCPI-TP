{
 "cells": [
  {
   "cell_type": "markdown",
   "metadata": {},
   "source": [
    "# Trabalho prático Visão por Computador"
   ]
  },
  {
   "cell_type": "markdown",
   "metadata": {},
   "source": [
    "## Group 13  <br>\n",
    "Nelson José Marques Martins Almeida pg52697 <br> \n",
    "Carlos Gustavo Silva Pereira pg53723"
   ]
  },
  {
   "cell_type": "markdown",
   "metadata": {},
   "source": [
    "## Enunciado do trabalho 1 - grupo (2-3 elementos)\n",
    "Neste trabalho pretende-se explorar modelos de deep learning aplicados ao dataset GTSRB (dataset alemão de sinais de trânsito) para obter o melhor resultado possível em termos de accuracy no dataset de teste (o melhor resultado publicado é 99.82%). <br>\n",
    "O trabalho divide-se em duas partes:\n",
    "Numa primeira parte é suposto treinar modelos aplicando \"data augmentation\", tanto em pré-processamento como dinâmico. Pretende-se nesta primeira parte explorar os filtros e métodos de processamento de imagem e avaliar o impacto dos mesmos no desempenho final da rede. Parte da avaliação será ditada pelo uso das técnicas de processamento de imagem utilizadas.  Devem ser treinadas vários modelos, com \"data augmentation\" diferentes, e ser realizada uma análise aos resultados obtidos.\n",
    "Numa segunda fase é pretendido estudar o potencial de utilizar ensembles de redes. As redes que farão parte do ensemble são as treinadas na primeira fase. \n",
    "Dataset alemão:\n",
    "Imagens para treino (ZIP)https://www.di.uminho.pt/~arf/storage/dl/train_images.zip\n",
    "Imagens para teste (ZIP)https://www.di.uminho.pt/~arf/storage/dl/test_images.zip\n",
    "Para além do notebook (ou scripts python avulsas) pretende-se um pequeno relatório que descreva as opções tomadas e apresente os testes realizados. O notebook ou as scripts também devem ser devidamente comentadas."
   ]
  },
  {
   "cell_type": "code",
   "execution_count": 4,
   "metadata": {},
   "outputs": [],
   "source": [
    "# Lets import the needed dependencies\n",
    "import torch\n",
    "import torchvision\n",
    "from torchvision.transforms import v2\n",
    "\n",
    "import torchinfo\n",
    "\n",
    "import matplotlib.pyplot as plt\n",
    "import numpy as np\n",
    "import time\n",
    "\n",
    "# importing a module with utilities for displaying stats and data\n",
    "import sys\n",
    "sys.path.append('./util')\n",
    "import vcpi_util\n",
    "from SyntheticDataGeneration import *\n",
    "import os\n",
    "\n",
    "from tqdm import tqdm\n",
    "import requests"
   ]
  },
  {
   "cell_type": "code",
   "execution_count": 6,
   "metadata": {},
   "outputs": [
    {
     "name": "stdout",
     "output_type": "stream",
     "text": [
      "Data downloaded and extracted successfully!\n"
     ]
    }
   ],
   "source": [
    "# Lets download the needed images if they are not already downloaded\n",
    "if not os.path.exists('data'):\n",
    "    os.makedirs('data')\n",
    "\n",
    "if not os.path.exists(\"data/train\"):\n",
    "    print(\"Downloading train images...\")\n",
    "    requests.get(\"https://www.di.uminho.pt/~arf/storage/dl/train_images.zip\")\n",
    "    os.system(\"unzip train_images.z1ip -d data/train\")\n",
    "    os.system(\"rm train_images.zip\")\n",
    "\n",
    "if not os.path.exists(\"data/test\"):\n",
    "    print(\"Downloading test images...\")\n",
    "    requests.get(\"https://www.di.uminho.pt/~arf/storage/dl/test_images.zip\")\n",
    "    os.system(\"unzip test_images.zip -d data/test\")\n",
    "    os.system(\"rm test_images.zip\")\n",
    "\n",
    "print(\"Data downloaded and extracted successfully!\")"
   ]
  },
  {
   "cell_type": "code",
   "execution_count": null,
   "metadata": {},
   "outputs": [],
   "source": [
    "#Lets "
   ]
  }
 ],
 "metadata": {
  "kernelspec": {
   "display_name": "Python 3",
   "language": "python",
   "name": "python3"
  },
  "language_info": {
   "codemirror_mode": {
    "name": "ipython",
    "version": 3
   },
   "file_extension": ".py",
   "mimetype": "text/x-python",
   "name": "python",
   "nbconvert_exporter": "python",
   "pygments_lexer": "ipython3",
   "version": "3.11.6"
  }
 },
 "nbformat": 4,
 "nbformat_minor": 2
}
